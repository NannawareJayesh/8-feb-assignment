{
 "cells": [
  {
   "cell_type": "markdown",
   "id": "3a936666-251f-4f3a-bb28-6e8c50342ffb",
   "metadata": {},
   "source": [
    "## 8 Feb Assignment"
   ]
  },
  {
   "cell_type": "markdown",
   "id": "63c79abe-c232-4d48-b093-7e59e3615e62",
   "metadata": {},
   "source": [
    "Q.1 What is Abstraction in OOps? Explain with an example."
   ]
  },
  {
   "cell_type": "markdown",
   "id": "753c568d-dfae-4bca-9bd2-d359619436aa",
   "metadata": {},
   "source": [
    "In object-oriented programming (OOP), abstraction is a concept that allows developers to simplify complex systems by hiding unnecessary details while highlighting essential features. Abstraction is achieved by creating abstract classes or interfaces that define common properties and behaviors of related objects, without specifying their implementation details.\n",
    "\n",
    "An example of abstraction can be seen in a car manufacturing company. The company may create an abstract class called \"Vehicle\" that defines properties common to all vehicles, such as the number of wheels, the maximum speed, the type of fuel, and the method of propulsion. This abstract class can be further extended by more specific classes such as \"Car,\" \"Motorcycle,\" and \"Truck,\" each of which can have its own implementation details and methods."
   ]
  },
  {
   "cell_type": "markdown",
   "id": "f0a606d2-6254-4b3f-bc36-17ef8afcf710",
   "metadata": {},
   "source": [
    "Q2. Differentiate between Abstraction and Encapsulation. Explain with an example."
   ]
  },
  {
   "cell_type": "markdown",
   "id": "7c827e8e-fa58-4c45-bb68-7101f7095dd1",
   "metadata": {},
   "source": [
    "Abstraction is a way of simplifying complex systems by hiding unnecessary details and highlighting essential features. It is achieved by creating abstract classes or interfaces that define common properties and behaviors of related objects, without specifying their implementation details. Abstraction is all about identifying the relevant aspects of an object and ignoring the irrelevant details.\n"
   ]
  },
  {
   "cell_type": "code",
   "execution_count": 2,
   "id": "41535a60-27e3-485a-859b-3de16a021ca5",
   "metadata": {},
   "outputs": [],
   "source": [
    "class Animal:\n",
    "    def __init__(self, name, age):\n",
    "        self.name = name\n",
    "        self.age = age\n",
    "        \n",
    "    def make_sound(self):\n",
    "        pass\n",
    "    \n",
    "class Dog(Animal):\n",
    "    def make_sound(self):\n",
    "        return \"Woof!\"\n",
    "    \n",
    "class Cat(Animal):\n",
    "    def make_sound(self):\n",
    "        return \"Meow!\"\n"
   ]
  },
  {
   "cell_type": "markdown",
   "id": "cb8d81db-52d8-469b-a4c9-86323b9e163e",
   "metadata": {},
   "source": [
    "On the other hand, encapsulation is a way of protecting data and functionality within a class, preventing unauthorized access or modification from outside the class. Encapsulation is achieved by defining class attributes as private and providing public methods to access or modify them, controlling the access to the object's internal state."
   ]
  },
  {
   "cell_type": "code",
   "execution_count": 3,
   "id": "58765c52-14ba-4944-9f87-a6921f9efabd",
   "metadata": {},
   "outputs": [],
   "source": [
    "class Animal:\n",
    "    def __init__(self, name, age):\n",
    "        self.__name = name\n",
    "        self.__age = age\n",
    "        \n",
    "    def make_sound(self):\n",
    "        pass\n",
    "    \n",
    "    def get_name(self):\n",
    "        return self.__name\n",
    "    \n",
    "    def set_name(self, name):\n",
    "        self.__name = name\n",
    "        \n",
    "    def get_age(self):\n",
    "        return self.__age\n",
    "    \n",
    "    def set_age(self, age):\n",
    "        self.__age = age\n",
    "        \n",
    "class Dog(Animal):\n",
    "    def make_sound(self):\n",
    "        return \"Woof!\"\n",
    "    \n",
    "class Cat(Animal):\n",
    "    def make_sound(self):\n",
    "        return \"Meow!\"\n"
   ]
  },
  {
   "cell_type": "markdown",
   "id": "8ad633a5-c7ad-4ba8-838c-8bae596e6c32",
   "metadata": {},
   "source": [
    "Q3. What is abc module in python? Why is it used?"
   ]
  },
  {
   "cell_type": "markdown",
   "id": "b6b69b63-079f-4ba6-860d-3b3fcbafc92e",
   "metadata": {},
   "source": [
    "The abc module in Python stands for Abstract Base Classes. It is a built-in module that provides infrastructure for defining abstract base classes in Python. Abstract base classes are classes that are meant to be inherited from but not instantiated directly. They define a set of methods that must be implemented by any concrete subclass."
   ]
  },
  {
   "cell_type": "code",
   "execution_count": 5,
   "id": "2cbdb6b1-3780-4999-b19f-3372f4c6293e",
   "metadata": {},
   "outputs": [
    {
     "name": "stdout",
     "output_type": "stream",
     "text": [
      "Object `abstraction` not found.\n"
     ]
    }
   ],
   "source": [
    "Q4. How can we achieve data abstraction?"
   ]
  },
  {
   "cell_type": "markdown",
   "id": "93d894cb-678e-4d52-b331-52749e26b063",
   "metadata": {},
   "source": [
    "In object-oriented programming, data abstraction is achieved by creating abstract classes or interfaces that define the common properties and behaviors of related objects, without specifying their implementation details. The purpose of data abstraction is to simplify complex systems by hiding unnecessary details and highlighting essential features.\n",
    "\n",
    "Here are some steps to achieve data abstraction in Python:\n",
    "\n",
    "    Identify the common properties and behaviors of related objects: To achieve data abstraction, we need to identify the common properties and behaviors of related objects and group them together. This will help us define a common interface for these objects.\n",
    "\n",
    "    Create an abstract class or interface: Once we have identified the common properties and behaviors, we can create an abstract class or interface that defines them. The abstract class or interface should only include the essential features and should not specify any implementation details.\n",
    "\n",
    "    Define abstract methods: An abstract method is a method that is declared but not implemented in the abstract class or interface. The purpose of abstract methods is to define a common interface that must be implemented by any concrete subclass.\n",
    "\n",
    "    Create concrete subclasses: Once we have defined the abstract class or interface, we can create concrete subclasses that inherit from it. The concrete subclasses must implement all the abstract methods defined in the abstract class or interface."
   ]
  },
  {
   "cell_type": "code",
   "execution_count": 6,
   "id": "f8920086-ead4-4870-afad-4ffc4fe807c5",
   "metadata": {},
   "outputs": [],
   "source": [
    "from abc import ABC, abstractmethod\n",
    "\n",
    "class Shape(ABC):\n",
    "    @abstractmethod\n",
    "    def area(self):\n",
    "        pass\n",
    "    \n",
    "    @abstractmethod\n",
    "    def perimeter(self):\n",
    "        pass\n",
    "    \n",
    "class Rectangle(Shape):\n",
    "    def __init__(self, width, height):\n",
    "        self.width = width\n",
    "        self.height = height\n",
    "        \n",
    "    def area(self):\n",
    "        return self.width * self.height\n",
    "    \n",
    "    def perimeter(self):\n",
    "        return 2 * (self.width + self.height)\n",
    "    \n",
    "class Circle(Shape):\n",
    "    def __init__(self, radius):\n",
    "        self.radius = radius\n",
    "        \n",
    "    def area(self):\n",
    "        return 3.14 * self.radius ** 2\n",
    "    \n",
    "    def perimeter(self):\n",
    "        return 2 * 3.14 * self.radius\n"
   ]
  },
  {
   "cell_type": "markdown",
   "id": "2f4af526-6926-4dc4-830f-e47ce47b0da9",
   "metadata": {},
   "source": [
    "Q5. Can we create an instance of an abstract class? Explain your answer."
   ]
  },
  {
   "cell_type": "markdown",
   "id": "ee328efc-351b-425a-8210-2a08721f9abe",
   "metadata": {},
   "source": [
    "No, we cannot create an instance of an abstract class in Python. An abstract class is a class that contains one or more abstract methods, which are methods that are declared but not implemented in the abstract class. The purpose of an abstract class is to provide a common interface for its concrete subclasses, which must implement all of the abstract methods defined by the abstract class."
   ]
  },
  {
   "cell_type": "code",
   "execution_count": null,
   "id": "9321c151-03b3-4a5d-aaea-796a4c541906",
   "metadata": {},
   "outputs": [],
   "source": []
  }
 ],
 "metadata": {
  "kernelspec": {
   "display_name": "Python 3 (ipykernel)",
   "language": "python",
   "name": "python3"
  },
  "language_info": {
   "codemirror_mode": {
    "name": "ipython",
    "version": 3
   },
   "file_extension": ".py",
   "mimetype": "text/x-python",
   "name": "python",
   "nbconvert_exporter": "python",
   "pygments_lexer": "ipython3",
   "version": "3.10.8"
  }
 },
 "nbformat": 4,
 "nbformat_minor": 5
}
